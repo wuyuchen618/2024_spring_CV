{
 "cells": [
  {
   "cell_type": "markdown",
   "metadata": {},
   "source": [
    "接下來 就是要根據吳XX 說 標記8個點 先算直線方程\n",
    "\n",
    "1.讀取原始 畫直線的同時 \"\"求方程係數\"\"\n",
    "\n",
    "2.讀取上次Binary後得影像 做 中間雕像遮罩 並\"\"\"把剩餘的所有點座標都存起來\"\"\" \n",
    "\n",
    "3.開始\"\"\"算每個點與這四條線的距離\"\"\" 設定四條線的鄰居\"\"\"threadhold距離\"\"\"\n",
    "\n",
    "(3和4其實可以同時做)\n",
    "\n",
    "4.用四個矩陣 求得四group的點之後 取平均ㄅ 這樣就會有homography的四個座標頂點了"
   ]
  },
  {
   "cell_type": "markdown",
   "metadata": {},
   "source": [
    "Part 1 求直線方程式的\"vx, vy, x0, y0\" \n",
    "\n",
    "畫方框圖只是示意 但是還是做一下 比較心安 "
   ]
  },
  {
   "cell_type": "code",
   "execution_count": 31,
   "metadata": {},
   "outputs": [
    {
     "name": "stdout",
     "output_type": "stream",
     "text": [
      "Line 1 equation: y = [0.07466667]x + [49.229332]\n",
      " vx =  [0.99722403] vy =  [0.0744594] x0 =  [613.] y0 =  [95.]\n",
      "Line 2 equation: y = [-0.21625544]x + [1056.3889]\n",
      " vx =  [0.97740626] vy =  [-0.21136943] x0 =  [614.5] y0 =  [923.5]\n",
      "Line 3 equation: y = [0.04387569]x + [153.84094]\n",
      " vx =  [0.9990389] vy =  [0.04383352] x0 =  [345.5] y0 =  [169.]\n",
      "Line 4 equation: y = [-0.13618676]x + [774.0272]\n",
      " vx =  [0.9908536] vy =  [-0.13494115] x0 =  [360.] y0 =  [725.]\n",
      "All images processed Mask result successfully.\n",
      "Binary image of red regions saved at box_frame_line\n"
     ]
    }
   ],
   "source": [
    "# '''畫方框圖只是示意 但是還是做一下 比較心安 現在不需要了 其實下面已經有寫純用8點計算直線參數了'''\n",
    "# import cv2\n",
    "# import numpy as np\n",
    "# import os\n",
    "\n",
    "# # 檔案路徑設定\n",
    "# #=========================================================\n",
    "\n",
    "# # 輸入\n",
    "# input_directory = \"ShadowStrip\"\n",
    "# input_file_name = \"0000.jpg\"\n",
    "\n",
    "# # 輸出\n",
    "# output_directory = \"box_frame_line\"\n",
    "# output_file_name = \"box_frame_line.jpg\"\n",
    "# if not os.path.exists(output_directory):\n",
    "#     os.makedirs(output_directory)\n",
    "\n",
    "# #==========================================================\n",
    "\n",
    "# # 讀取圖像\n",
    "# image_path = os.path.join(input_directory, input_file_name)\n",
    "# image = cv2.imread(image_path)\n",
    "\n",
    "# # 定義八個座標點\n",
    "# points = [(238, 67), (988, 123), (270, 998), (959, 849),\n",
    "#           (72,157), (619,181), (103,760), (617, 690)]\n",
    "\n",
    "# # 在圖像上畫四條線段\n",
    "# for i in range(4):\n",
    "#     cv2.line(image, points[i*2], points[(i*2)+1], (0, 0, 255), 2)\n",
    "# # 在點上標上數字\n",
    "# for i in range(8):\n",
    "#     cv2.putText(image, str((i+1)), (points[i][0] - 30, points[i][1] - 20),\n",
    "#                 cv2.FONT_HERSHEY_SIMPLEX, 1, (0, 0, 255), 2, cv2.LINE_AA)\n",
    "#     cv2.circle(image, points[i], 10, (0, 255, 0), -1)  # 在座標點位置繪製綠色實心圓\n",
    "\n",
    "# # 計算直線方程式的係數\n",
    "# for i in range(4):\n",
    "#     x1, y1 = points[i*2]\n",
    "#     x2, y2 = points[(i*2)+1]\n",
    "#     vx, vy, x0, y0 = cv2.fitLine(np.array([[x1, y1], [x2, y2]], dtype=np.int32), cv2.DIST_L2, 0, 0.01, 0.01)\n",
    "#     slope = vy / vx\n",
    "#     intercept = y0 - (slope * x0)\n",
    "#     print(f\"Line {i+1} equation: y = {slope}x + {intercept}\")\n",
    "#     print(\" vx = \",vx,\"vy = \",vy,\"x0 = \",x0,\"y0 = \",y0)\n",
    "\n",
    "# # 儲存結果\n",
    "# output_filename = os.path.join(output_directory, input_file_name.replace('.jpg', '_' + output_file_name))\n",
    "# cv2.imwrite(output_filename, image)\n",
    "\n",
    "# print(\"All images processed Mask result successfully.\")\n",
    "# print(f\"Binary image of red regions saved at {output_directory}\")\n"
   ]
  },
  {
   "cell_type": "markdown",
   "metadata": {},
   "source": [
    "Part2:現在要處裡 原本二值化 儲存好的照片 目標是獲得四個homography的頂點"
   ]
  },
  {
   "cell_type": "markdown",
   "metadata": {},
   "source": [
    "單張圖片 \"\"blocked雕像\"\" 版本 目前不需要他 已有for版本 下面"
   ]
  },
  {
   "cell_type": "code",
   "execution_count": 26,
   "metadata": {},
   "outputs": [],
   "source": [
    "# '''單張圖片blocked 中間雕像版本 目前不需要他 已有for版本 下面'''\n",
    "# # 檔案路徑設定\n",
    "# #=========================================================\n",
    "\n",
    "# # 輸入\n",
    "# input_directory = \"RGB_threshold_RedBinary\"\n",
    "# input_file_name = \"0000_RGB_threshold_RedBinary.jpg\"\n",
    "\n",
    "# # 輸出\n",
    "# output_directory = \"statue_blocked\"\n",
    "# output_file_name = \"statue_blocked.jpg\"\n",
    "# if not os.path.exists(output_directory):\n",
    "#     os.makedirs(output_directory)\n",
    "\n",
    "# #==========================================================\n",
    "\n",
    "# # 讀取圖像\n",
    "# image_path = os.path.join(input_directory, input_file_name)\n",
    "# image = cv2.imread(image_path)\n",
    "\n",
    "# # 定義方框範圍的最左上與最右下座標\n",
    "# top_left = (365, 235)\n",
    "# bottom_right = (600, 680)\n",
    "\n",
    "# # 將指定範圍內的像素值設為全黑\n",
    "# image[top_left[1]:bottom_right[1], top_left[0]:bottom_right[0]] = 0\n",
    "\n",
    "# # 儲存結果\n",
    "# output_filename = os.path.join(output_directory, input_file_name.replace('.jpg', '_' + output_file_name))\n",
    "# cv2.imwrite(output_filename, image)\n",
    "\n",
    "# print(f\"Processed image saved at {output_filename}\")\n"
   ]
  },
  {
   "cell_type": "markdown",
   "metadata": {},
   "source": [
    "遍歷版本 把所有雕像都block掉 output_directory = \"statue_blocked\""
   ]
  },
  {
   "cell_type": "code",
   "execution_count": 1,
   "metadata": {},
   "outputs": [],
   "source": [
    "'''遍歷版本 把所有雕像都block掉'''\n",
    "import cv2\n",
    "import os\n",
    "\n",
    "# 檔案路徑設定\n",
    "#=========================================================\n",
    "\n",
    "# 輸入目錄\n",
    "input_directory = \"RGB_threshold_RedBinary\"\n",
    "\n",
    "# 輸出目錄\n",
    "output_directory = \"statue_blocked\"\n",
    "if not os.path.exists(output_directory):\n",
    "    os.makedirs(output_directory)\n",
    "\n",
    "#==========================================================\n",
    "\n",
    "# 遍歷輸入目錄中的所有檔案\n",
    "for filename in os.listdir(input_directory):\n",
    "    if filename.endswith(\".jpg\"):  # 確保只處理 .jpg 檔案\n",
    "        # 讀取圖像\n",
    "        input_file_path = os.path.join(input_directory, filename)\n",
    "        image = cv2.imread(input_file_path)\n",
    "\n",
    "        # 定義方框範圍的最左上與最右下座標\n",
    "        top_left = (365, 235)\n",
    "        bottom_right = (600, 680)\n",
    "\n",
    "        # 將指定範圍內的像素值設為全黑\n",
    "        image[top_left[1]:bottom_right[1], top_left[0]:bottom_right[0]] = 0\n",
    "\n",
    "        # 儲存結果\n",
    "        output_filename = os.path.join(output_directory, filename.replace('.jpg', '_statue_blocked.jpg'))\n",
    "        cv2.imwrite(output_filename, image)\n",
    "\n",
    "        # print(f\"Processed image saved at {output_filename}\")\n"
   ]
  },
  {
   "cell_type": "markdown",
   "metadata": {},
   "source": [
    "Part 3 現在要處理 每張已經blocked中間雕像的圖 剩餘的白色 分別屬於哪一個線的管轄範圍了"
   ]
  },
  {
   "cell_type": "markdown",
   "metadata": {},
   "source": [
    "純粹根據8點 求四條線的直線方程的係數 用一個向量好好儲存起來 並且建立好距離公式\n",
    "\n",
    "然後 讀取舊有已經blocked雕像的照片 開始算所有非黑的距離"
   ]
  },
  {
   "cell_type": "markdown",
   "metadata": {},
   "source": [
    "求直線距離 純粹8點 純數學版本 求係數(- line_params: 包含直線參數的向量 (vx, vy, x0, y0)。)"
   ]
  },
  {
   "cell_type": "code",
   "execution_count": 32,
   "metadata": {},
   "outputs": [
    {
     "name": "stdout",
     "output_type": "stream",
     "text": [
      "Line 1 parameters: (array([0.99722403], dtype=float32), array([0.0744594], dtype=float32), array([613.], dtype=float32), array([95.], dtype=float32))\n",
      "Line 2 parameters: (array([0.97740626], dtype=float32), array([-0.21136943], dtype=float32), array([614.5], dtype=float32), array([923.5], dtype=float32))\n",
      "Line 3 parameters: (array([0.9990389], dtype=float32), array([0.04383352], dtype=float32), array([345.5], dtype=float32), array([169.], dtype=float32))\n",
      "Line 4 parameters: (array([0.9908536], dtype=float32), array([-0.13494115], dtype=float32), array([360.], dtype=float32), array([725.], dtype=float32))\n"
     ]
    }
   ],
   "source": [
    "# \"\"\"求直線距離 純粹8點 純數學版本 求係數(- line_params: 包含直線參數的向量 (vx, vy, x0, y0)。)\"\"\"\n",
    "\n",
    "# import cv2\n",
    "# import numpy as np\n",
    "\n",
    "# def distance_to_line(x_prime, y_prime, line_params):\n",
    "#     \"\"\"\n",
    "#     計算其他座標點到直線的距離。\n",
    "\n",
    "#     參數:\n",
    "#     - x_prime: 其他座標點的 x 座標。\n",
    "#     - y_prime: 其他座標點的 y 座標。\n",
    "#     - line_params: 包含直線參數的向量 (vx, vy, x0, y0)。\n",
    "\n",
    "#     返回:\n",
    "#     - 該座標點到直線的距離。\n",
    "#     \"\"\"\n",
    "#     vx, vy, x0, y0 = line_params\n",
    "#     distance = np.abs((x_prime - x0) * vy - (y_prime - y0) * vx) / np.sqrt(vx**2 + vy**2)\n",
    "#     return distance\n",
    "\n",
    "# # 定義八個座標點\n",
    "# points = [(238, 67), (988, 123), (270, 998), (959, 849),\n",
    "#           (72,157), (619,181), (103,760), (617, 690)]\n",
    "\n",
    "# # 存儲直線方程的係數向量\n",
    "# line_params_list = []\n",
    "\n",
    "# # 計算直線方程式的係數\n",
    "# for i in range(4):\n",
    "#     x1, y1 = points[i*2]\n",
    "#     x2, y2 = points[(i*2)+1]\n",
    "#     vx, vy, x0, y0 = cv2.fitLine(np.array([[x1, y1], [x2, y2]], dtype=np.int32), cv2.DIST_L2, 0, 0.01, 0.01)\n",
    "\n",
    "#     # slope = vy / vx\n",
    "#     # intercept = y0 - (slope * x0)\n",
    "#     # print(f\"Line {i+1} equation: y = {slope}x + {intercept}\")\n",
    "#     # print(\" vx = \",vx,\"vy = \",vy,\"x0 = \",x0,\"y0 = \",y0)\n",
    "\n",
    "    \n",
    "#     # 存儲到向量中\n",
    "#     line_params_list.append((vx, vy, x0, y0))\n",
    "\n",
    "# # 在 for 迴圈以外使用直線參數\n",
    "# for i, line_params in enumerate(line_params_list):\n",
    "#     print(f\"Line {i+1} parameters:\", line_params)\n",
    "\n",
    "# # some_other_points \n",
    "# # # 在自定義函數中使用直線參數\n",
    "# # for x_prime, y_prime in some_other_points:\n",
    "# #     distance = distance_to_line(x_prime, y_prime, line_params)\n",
    "# #     print(f\"Distance from point ({x_prime}, {y_prime}) to line:\", distance)\n",
    "\n"
   ]
  },
  {
   "cell_type": "markdown",
   "metadata": {},
   "source": [
    "現在已經有計算與四條直線的距離公式解function了 你能幫我再添加以下功能與步驟:\n",
    "1. 遍歷讀取叫做statue_blocked的目錄 裡面所有的.jpg檔 用openCV讀入\n",
    "2. 讀近來的這些照片 都是二值化的照片 我想把所有白色的點座標(x',y') 都套入距離公式 只要該白色座標點  離四條的其中一條 與哪一條最近 就歸類並紀錄成一群 (算是變成該線的管轄)\n",
    "我想用計算所有白色座標點計算與四線距離 把所有座標儲存分成四類 分成距離四條線最近的一群 \n",
    "所以會想用向量儲存 四個存(x',y')座標對(pair)  分別儲存四群座標\n",
    "3. 計算每一群的平均值 產生一個平均的座標點 結果會有四個(avg_x, avg_y) 因為有四群"
   ]
  },
  {
   "cell_type": "markdown",
   "metadata": {},
   "source": [
    "好的，那我們只處理一張照片。這裡是修改後的程式碼：\n",
    "\n",
    "這段程式會讀取 statue_blocked.jpg 圖像，找出其中的白色點，然後根據這些白色點到四條直線的距離，將它們分組到四個群組中。最後，計算每個群組的平均座標點並印出。"
   ]
  },
  {
   "cell_type": "code",
   "execution_count": 54,
   "metadata": {},
   "outputs": [
    {
     "name": "stdout",
     "output_type": "stream",
     "text": [
      "Average coordinates for group 1: (684.3953488372093, 100.02325581395348)\n",
      "Average coordinates for group 2: (675.6585365853658, 909.5121951219512)\n",
      "Average coordinates for group 3: (386.8, 170.3)\n",
      "Average coordinates for group 4: (397.0, 719.2307692307693)\n"
     ]
    },
    {
     "data": {
      "text/plain": [
       "True"
      ]
     },
     "execution_count": 54,
     "metadata": {},
     "output_type": "execute_result"
    }
   ],
   "source": [
    "# \"\"\" \"\"單張照片\"\"平均座標點旁邊都會標上相應的群組編號。\"\"\"\n",
    "\n",
    "# import cv2\n",
    "# import numpy as np\n",
    "\n",
    "# def distance_to_line(x_prime, y_prime, line_params):\n",
    "#     \"\"\"\n",
    "#     計算其他座標點到直線的距離。\n",
    "\n",
    "#     參數:\n",
    "#     - x_prime: 其他座標點的 x 座標。\n",
    "#     - y_prime: 其他座標點的 y 座標。\n",
    "#     - line_params: 包含直線參數的向量 (vx, vy, x0, y0)。\n",
    "\n",
    "#     返回:\n",
    "#     - 該座標點到直線的距離。\n",
    "#     \"\"\"\n",
    "#     vx, vy, x0, y0 = line_params\n",
    "#     distance = np.abs((x_prime - x0) * vy - (y_prime - y0) * vx) / np.sqrt(vx**2 + vy**2)\n",
    "#     return distance\n",
    "\n",
    "# # 定義八個座標點\n",
    "# points = [(238, 67), (988, 123), (270, 998), (959, 849),\n",
    "#           (72,157), (619,181), (103,760), (617, 690)]\n",
    "\n",
    "# # 存儲直線方程的係數向量\n",
    "# line_params_list = []\n",
    "\n",
    "# # 計算直線方程式的係數\n",
    "# for i in range(4):\n",
    "#     x1, y1 = points[i*2]\n",
    "#     x2, y2 = points[(i*2)+1]\n",
    "#     vx, vy, x0, y0 = cv2.fitLine(np.array([[x1, y1], [x2, y2]], dtype=np.int32), cv2.DIST_L2, 0, 0.01, 0.01)\n",
    "#     line_params_list.append((vx, vy, x0, y0))\n",
    "# # ======================================\n",
    "\n",
    "# # 建立輸入目錄\n",
    "# input_directory = \"statue_blocked\"\n",
    "# input_file_name = \"0031_RGB_threshold_RedBinary_statue_blocked.jpg\"\n",
    "\n",
    "# # 建立輸出目錄\n",
    "# output_directory = \"box_frame_4_points\"\n",
    "# output_file_name = \"box_frame_4_points.jpg\"\n",
    "# if not os.path.exists(output_directory):\n",
    "#     os.makedirs(output_directory)\n",
    "# # ========================================\n",
    "\n",
    "# # 讀取圖像\n",
    "# image_path = os.path.join(input_directory, input_file_name)\n",
    "# image = cv2.imread(image_path)\n",
    "\n",
    "# # 找出所有白色點的座標\n",
    "# white_points = np.where(image == 255)\n",
    "# white_points = np.column_stack((white_points[1], white_points[0]))  # 將座標點轉換成 (x, y) 格式\n",
    "\n",
    "# # 初始化四個群組\n",
    "# grouped_coordinates = [[] for _ in range(4)]\n",
    "\n",
    "# # 將白色點分組\n",
    "# for point in white_points:\n",
    "#     distances = [distance_to_line(point[0], point[1], line_params) for line_params in line_params_list]     # 行使用了列表理解，遍歷了 line_params_list 中的每一組直線參數，計算出每個白色點到這四條直線的距離，並將這些距離存儲在 distances 列表中。\n",
    "#     min_distance_index = np.argmin(distances)       # 這一行程式碼是找到 distances 列表中距離最小的那個值的\"\"索引\"\"\"，也就是找到了這個白色點距離四條直線中哪一條直線最近。\n",
    "#     grouped_coordinates[min_distance_index].append(point)   # 這一行程式碼是將這個白色點添加到距離最近的那條直線所對應的群組中。grouped_coordinates 是一個列表，其中的每個元素代表一個群組，索引 min_distance_index 對應到距離最小的那條直線。然後，append() 方法將這個白色點 point 添加到這個群組中。\n",
    "\n",
    "# # 計算每個群組的平均值\n",
    "# avg_coordinates = [(np.mean(group, axis=0)[0], np.mean(group, axis=0)[1]) for group in grouped_coordinates]\n",
    "\n",
    "# # 印出平均座標點\n",
    "# for i, avg_coord in enumerate(avg_coordinates):\n",
    "#     print(f\"Average coordinates for group {i+1}: {avg_coord}\")\n",
    "\n",
    "\n",
    "# # 在圖像上畫出平均座標點並標上群組編號\n",
    "# cross_size = (50, 50)  # 十字的大小，(橫向大小, 縱向大小)\n",
    "# font = cv2.FONT_HERSHEY_SIMPLEX\n",
    "# font_scale = 1\n",
    "# font_thickness = 1\n",
    "# for i, coord in enumerate(avg_coordinates, 1):\n",
    "#     x, y = int(coord[0]), int(coord[1])\n",
    "#     cross_half_size = (cross_size[0] // 2, cross_size[1] // 2)\n",
    "#     cv2.line(image, (x - cross_half_size[0], y), (x + cross_half_size[0], y), (0, 255, 0), 1)  # 橫向線\n",
    "#     cv2.line(image, (x, y - cross_half_size[1]), (x, y + cross_half_size[1]), (0, 255, 0), 1)  # 縱向線\n",
    "#     cv2.putText(image, f\"Group {i}\", (x + 15, y - 15), font, font_scale, (0, 255, 0), font_thickness, cv2.LINE_AA)\n",
    "\n",
    "\n",
    "# # 儲存結果\n",
    "# output_filename = os.path.join(output_directory, input_file_name.replace('.jpg', '_' + output_file_name))\n",
    "# cv2.imwrite(output_filename, image)\n"
   ]
  },
  {
   "cell_type": "markdown",
   "metadata": {},
   "source": [
    "平均座標點旁邊都會標上相應的群組編號。 遍歷版本 "
   ]
  },
  {
   "cell_type": "code",
   "execution_count": 2,
   "metadata": {},
   "outputs": [
    {
     "name": "stdout",
     "output_type": "stream",
     "text": [
      "[[(558.6603773584906, 90.50943396226415), (560.2608695652174, 935.0652173913044), (295.2352941176471, 166.64705882352942), (310.9230769230769, 730.5384615384615)], [(558.7777777777778, 91.17777777777778), (560.725, 934.625), (295.5, 166.5), (311.7692307692308, 730.3846153846154)], [(559.6451612903226, 91.33870967741936), (560.936170212766, 934.0212765957447), (296.42857142857144, 166.64285714285714), (311.75, 730.6875)], [(560.875, 91.203125), (562.0416666666666, 934.1041666666666), (296.75, 167.16666666666666), (312.6923076923077, 730.0769230769231)], [(561.8039215686274, 90.7843137254902), (563.6382978723404, 933.4468085106383), (297.3125, 166.9375), (313.6470588235294, 730.2941176470588)], [(563.8809523809524, 91.88095238095238), (565.3913043478261, 934.1086956521739), (299.1111111111111, 166.77777777777777), (315.3333333333333, 729.9166666666666)], [(565.9803921568628, 91.2156862745098), (567.0, 933.1304347826087), (300.93333333333334, 166.86666666666667), (316.84615384615387, 729.7692307692307)], [(568.4666666666667, 91.46666666666667), (569.1521739130435, 932.4565217391304), (302.3333333333333, 167.33333333333334), (317.46153846153845, 730.1538461538462)], [(571.4067796610169, 91.47457627118644), (571.8536585365854, 931.8780487804878), (303.1904761904762, 166.95238095238096), (319.3157894736842, 729.7368421052631)], [(574.3636363636364, 92.25), (574.6458333333334, 931.125), (307.0, 167.54545454545453), (322.4166666666667, 729.25)], [(577.8958333333334, 92.58333333333333), (577.86, 930.82), (308.88235294117646, 167.47058823529412), (324.3125, 729.0)], [(581.4897959183673, 92.20408163265306), (581.3863636363636, 930.0681818181819), (311.05, 167.25), (327.1666666666667, 728.5)], [(585.7058823529412, 92.6470588235294), (584.936170212766, 929.0851063829788), (314.75, 167.58333333333334), (329.53846153846155, 727.8461538461538)], [(589.9473684210526, 92.54385964912281), (588.7333333333333, 928.8), (317.75, 167.83333333333334), (332.2, 728.0)], [(594.2826086956521, 93.47826086956522), (592.5, 927.7045454545455), (320.6, 167.7), (335.3076923076923, 727.7692307692307)], [(598.7692307692307, 94.0), (596.8636363636364, 926.9772727272727), (323.92857142857144, 167.92857142857142), (338.7857142857143, 727.0714285714286)], [(603.3, 94.0), (601.2142857142857, 925.5952380952381), (327.0, 168.05), (341.85714285714283, 726.9285714285714)], [(607.9411764705883, 94.33333333333333), (606.1521739130435, 924.6739130434783), (331.73333333333335, 168.4), (345.4, 726.0)], [(613.3934426229508, 95.11475409836065), (610.5, 924.3695652173913), (335.4375, 168.625), (348.22222222222223, 726.1111111111111)], [(618.3404255319149, 95.85106382978724), (615.3666666666667, 922.9166666666666), (338.6923076923077, 168.76923076923077), (351.9375, 725.125)], [(623.5, 95.64285714285714), (620.0, 922.2553191489362), (342.6875, 168.6875), (355.75, 725.0)], [(628.9782608695652, 95.34782608695652), (624.9767441860465, 920.6511627906976), (346.4, 168.73333333333332), (359.46666666666664, 724.2666666666667)], [(634.4318181818181, 96.68181818181819), (629.921052631579, 919.421052631579), (350.3076923076923, 169.6153846153846), (362.875, 723.75)], [(640.3888888888889, 96.51851851851852), (635.15, 918.45), (354.1666666666667, 169.08333333333334), (366.8, 723.2)], [(645.609756097561, 96.65853658536585), (640.0512820512821, 916.8461538461538), (358.5833333333333, 169.41666666666666), (370.45454545454544, 722.8181818181819)], [(650.9148936170212, 97.61702127659575), (645.125, 915.7), (362.27777777777777, 169.77777777777777), (374.75, 722.0)], [(656.811320754717, 98.18867924528301), (650.4285714285714, 914.6428571428571), (367.75, 169.8125), (378.2142857142857, 721.7857142857143)], [(662.469387755102, 98.14285714285714), (655.7058823529412, 913.7647058823529), (370.61538461538464, 169.84615384615384), (381.2, 721.0)], [(667.6739130434783, 99.04347826086956), (660.7948717948718, 913.0), (374.46153846153845, 169.92307692307693), (386.3076923076923, 720.3076923076923)], [(672.62, 99.92), (665.7441860465116, 911.2558139534884), (378.57142857142856, 170.14285714285714), (389.5, 720.5)], [(679.0625, 99.375), (670.8604651162791, 910.7209302325581), (383.53333333333336, 170.6), (393.29411764705884, 719.6470588235294)], [(684.3953488372093, 100.02325581395348), (675.6585365853658, 909.5121951219512), (386.8, 170.3), (397.0, 719.2307692307693)], [(689.566037735849, 100.18867924528301), (680.6326530612245, 908.6122448979592), (390.9230769230769, 171.07692307692307), (401.57142857142856, 718.6428571428571)], [(694.7234042553191, 101.12765957446808), (685.3720930232558, 907.8604651162791), (394.3333333333333, 171.0), (404.5, 718.8333333333334)], [(699.8571428571429, 101.19047619047619), (689.9444444444445, 906.7222222222222), (397.54545454545456, 171.45454545454547), (406.90909090909093, 718.1818181818181)], [(704.6666666666666, 101.78571428571429), (694.5227272727273, 905.4090909090909), (402.3333333333333, 171.5), (411.6666666666667, 717.5333333333333)], [(709.9803921568628, 101.76470588235294), (699.1951219512196, 905.6829268292682), (405.42857142857144, 172.0), (415.5, 717.125)], [(714.4651162790698, 102.69767441860465), (703.547619047619, 903.4285714285714), (409.6666666666667, 171.33333333333334), (418.7692307692308, 716.3076923076923)], [(718.75, 102.55), (707.7073170731708, 902.2439024390244), (412.5833333333333, 172.08333333333334), (422.45454545454544, 716.0909090909091)], [(723.2682926829268, 103.36585365853658), (711.8, 901.6666666666666), (415.7142857142857, 172.14285714285714), (424.6923076923077, 715.5384615384615)], [(727.4186046511628, 103.0), (715.7567567567568, 901.027027027027), (418.1, 172.3), (428.1666666666667, 715.0)], [(731.1, 103.625), (718.95, 900.625), (421.85714285714283, 172.71428571428572), (429.4375, 714.8125)], [(735.3409090909091, 103.27272727272727), (722.8205128205128, 898.7692307692307), (424.0769230769231, 172.6153846153846), (433.6666666666667, 714.5555555555555)], [(738.375, 104.55), (726.258064516129, 898.6451612903226), (427.3333333333333, 173.0), (435.5, 713.9)], [(742.0227272727273, 104.5), (728.975, 898.35), (429.4166666666667, 172.66666666666666), (437.625, 714.0)], [(744.5681818181819, 105.18181818181819), (731.7777777777778, 896.75), (431.8125, 173.0625), (439.61538461538464, 713.6923076923077)], [(747.531914893617, 105.08510638297872), (734.9069767441861, 897.4418604651163), (434.3076923076923, 172.92307692307693), (441.8181818181818, 713.1818181818181)], [(750.6122448979592, 104.73469387755102), (736.5652173913044, 896.0), (436.0833333333333, 173.25), (443.6875, 712.9375)], [(752.3333333333334, 105.29166666666667), (738.9347826086956, 896.0), (437.875, 172.75), (445.0, 712.8)], [(754.4761904761905, 105.33333333333333), (741.2325581395348, 895.6279069767442), (438.88235294117646, 173.05882352941177), (446.45454545454544, 712.6363636363636)], [(756.1190476190476, 105.69047619047619), (742.0714285714286, 895.047619047619), (440.90909090909093, 173.0909090909091), (447.4, 712.6666666666666)], [(757.609756097561, 105.21951219512195), (743.4, 895.225), (441.3076923076923, 173.92307692307693), (449.2352941176471, 712.2941176470588)], [(758.1395348837209, 105.32558139534883), (744.0697674418604, 895.2325581395348), (441.14285714285717, 173.07142857142858), (449.6875, 712.1875)], [(758.6744186046511, 105.25581395348837), (744.75, 894.9444444444445), (441.72727272727275, 173.1818181818182), (449.90909090909093, 711.9090909090909)], [(758.6122448979592, 105.6938775510204), (744.8, 894.3), (442.3636363636364, 173.45454545454547), (449.8666666666667, 712.0666666666667)]]\n"
     ]
    }
   ],
   "source": [
    "\"\"\"平均座標點旁邊都會標上相應的群組編號。 遍歷版本 \"\"\"\n",
    "\n",
    "import cv2\n",
    "import numpy as np\n",
    "import os\n",
    "\n",
    "def distance_to_line(x_prime, y_prime, line_params):\n",
    "    \"\"\"\n",
    "    計算其他座標點到直線的距離。\n",
    "\n",
    "    參數:\n",
    "    - x_prime: 其他座標點的 x 座標。\n",
    "    - y_prime: 其他座標點的 y 座標。\n",
    "    - line_params: 包含直線參數的向量 (vx, vy, x0, y0)。\n",
    "\n",
    "    返回:\n",
    "    - 該座標點到直線的距離。\n",
    "    \"\"\"\n",
    "    vx, vy, x0, y0 = line_params\n",
    "    distance = np.abs((x_prime - x0) * vy - (y_prime - y0) * vx) / np.sqrt(vx**2 + vy**2)\n",
    "    return distance\n",
    "\n",
    "# 定義八個座標點\n",
    "points = [(238, 67), (988, 123), (270, 998), (959, 849),\n",
    "          (72,157), (619,181), (103,760), (617, 690)]\n",
    "\n",
    "# 存儲直線方程的係數向量\n",
    "line_params_list = []\n",
    "\n",
    "# !!!!!!!!!儲存  遍歷所有照片結果 平均四點座標 的大矩陣!!!!!!!!!!!!!!!\n",
    "avg_coordinates_matrix = []\n",
    "\n",
    "# 計算直線方程式的係數\n",
    "for i in range(4):\n",
    "    x1, y1 = points[i*2]\n",
    "    x2, y2 = points[(i*2)+1]\n",
    "    vx, vy, x0, y0 = cv2.fitLine(np.array([[x1, y1], [x2, y2]], dtype=np.int32), cv2.DIST_L2, 0, 0.01, 0.01)\n",
    "    line_params_list.append((vx, vy, x0, y0))\n",
    "\n",
    "# 建立輸入目錄\n",
    "input_directory = \"statue_blocked\"\n",
    "\n",
    "# 建立輸出目錄\n",
    "output_directory = \"box_frame_4_points\"\n",
    "output_file_name = \"box_frame_4_points.jpg\"\n",
    "if not os.path.exists(output_directory):\n",
    "    os.makedirs(output_directory)\n",
    "\n",
    "# 遍歷目錄中的所有.jpg檔案\n",
    "for filename in os.listdir(input_directory):\n",
    "    if filename.endswith(\".jpg\"):\n",
    "        # 讀取圖像\n",
    "        image_path = os.path.join(input_directory, filename)\n",
    "        image = cv2.imread(image_path)\n",
    "\n",
    "        # 找出所有白色點的座標\n",
    "        white_points = np.where(image == 255)\n",
    "        white_points = np.column_stack((white_points[1], white_points[0]))  # 將座標點轉換成 (x, y) 格式\n",
    "\n",
    "        # 初始化四個群組\n",
    "        grouped_coordinates = [[] for _ in range(4)]\n",
    "\n",
    "        # 將白色點分組\n",
    "        for point in white_points:\n",
    "            distances = [distance_to_line(point[0], point[1], line_params) for line_params in line_params_list]\n",
    "            min_distance_index = np.argmin(distances)\n",
    "            grouped_coordinates[min_distance_index].append(point)\n",
    "\n",
    "        # 計算每個群組的平均值\n",
    "        avg_coordinates = [(np.mean(group, axis=0)[0], np.mean(group, axis=0)[1]) for group in grouped_coordinates]\n",
    "\n",
    "        # 儲存平均四點座標到矩陣中\n",
    "        # !!!!!!!!!儲存  遍歷所有照片結果 平均四點座標 的大矩陣!!!!!!!!!!!!!!!\n",
    "        avg_coordinates_matrix.append(avg_coordinates)\n",
    "\n",
    "# ================以下只是畫圖======儲存標記四個點=================\n",
    "        # 在圖像上畫出平均座標點並標上群組編號\n",
    "        cross_size = (50, 50)  # 十字的大小，(橫向大小, 縱向大小)\n",
    "        font = cv2.FONT_HERSHEY_SIMPLEX\n",
    "        font_scale = 1\n",
    "        font_thickness = 1\n",
    "        for i, coord in enumerate(avg_coordinates, 1):\n",
    "            x, y = int(coord[0]), int(coord[1])\n",
    "            cross_half_size = (cross_size[0] // 2, cross_size[1] // 2)\n",
    "            cv2.line(image, (x - cross_half_size[0], y), (x + cross_half_size[0], y), (0, 255, 0), 1)  # 橫向線\n",
    "            cv2.line(image, (x, y - cross_half_size[1]), (x, y + cross_half_size[1]), (0, 255, 0), 1)  # 縱向線\n",
    "            cv2.putText(image, f\"Group {i}\", (x + 15, y - 15), font, font_scale, (0, 255, 0), font_thickness, cv2.LINE_AA)\n",
    "\n",
    "        # 儲存結果\n",
    "        output_filename = os.path.join(output_directory, filename.replace('.jpg', '_' + output_file_name))\n",
    "        cv2.imwrite(output_filename, image)\n",
    "\n",
    "print(avg_coordinates_matrix)"
   ]
  },
  {
   "cell_type": "markdown",
   "metadata": {},
   "source": [
    "Part 3 現在有座標點了 把僅有雕像的結果 用homography映射到一張1080*1080的圖案上\n",
    "\n",
    "輸入: 只有中間雕像的圖 (尚未產生 之前只有blocked雕像而已)\n",
    "\n",
    "輸出: homo過的結果 正面 側面"
   ]
  },
  {
   "cell_type": "code",
   "execution_count": 3,
   "metadata": {},
   "outputs": [],
   "source": [
    "# 定義八個座標點\n",
    "points = [(238, 67), (988, 123), (270, 998), (959, 849),\n",
    "          (72,157), (619,181), (103,760), (617, 690)]"
   ]
  },
  {
   "cell_type": "code",
   "execution_count": 4,
   "metadata": {},
   "outputs": [
    {
     "data": {
      "text/plain": [
       "(55, 4, 2)"
      ]
     },
     "execution_count": 4,
     "metadata": {},
     "output_type": "execute_result"
    }
   ],
   "source": [
    "\"\"\"!!!!!!!!!儲存  遍歷所有照片結果 平均四點座標 的大矩陣!!(55, 4, 2)\"\"\"\n",
    "# 列出欄位資料型別等資訊 \n",
    "np.shape(avg_coordinates_matrix) # (55, 4, 2)"
   ]
  },
  {
   "cell_type": "markdown",
   "metadata": {},
   "source": [
    "(only1) 左視角切片 的結果"
   ]
  },
  {
   "cell_type": "code",
   "execution_count": 88,
   "metadata": {},
   "outputs": [
    {
     "name": "stdout",
     "output_type": "stream",
     "text": [
      "Homography transformation completed and saved successfully.\n"
     ]
    }
   ],
   "source": [
    "# \"(only1) 左視角切片 的結果\"\n",
    "\n",
    "# import cv2\n",
    "# import numpy as np\n",
    "# import os\n",
    "\n",
    "# # 建立輸出目錄\n",
    "# output_directory = \"left_view_slice\"\n",
    "# if not os.path.exists(output_directory):\n",
    "#     os.makedirs(output_directory)\n",
    "\n",
    "# # 定義四個點的坐標\n",
    "# src_points = np.array([[684.3953488372093, 100.02325581395348],\n",
    "#                        [675.6585365853658, 909.5121951219512],\n",
    "#                        [386.8, 170.3],\n",
    "#                        [397.0, 719.2307692307693]], dtype=np.float32)\n",
    "\n",
    "# # 定義目標四個角的坐標（從右上、右下、左上、左下的順序）\n",
    "# dst_points = np.array([[1080, 0],\n",
    "#                        [1080, 1080],\n",
    "#                        [0, 0],\n",
    "#                        [0, 1080]], dtype=np.float32)\n",
    "\n",
    "# # 載入原始圖像\n",
    "# input_directory = \"RGB_threshold_RedBinary\"\n",
    "# input_file_name = \"0031_RGB_threshold_RedBinary.jpg\"\n",
    "# image_path = os.path.join(input_directory, input_file_name)\n",
    "# image = cv2.imread(image_path)\n",
    "\n",
    "# # 執行透視變換（homography）\n",
    "# H, _ = cv2.findHomography(src_points, dst_points)\n",
    "\n",
    "# # 對原始圖像應用透視變換\n",
    "# warped_image = cv2.warpPerspective(image, H, (1080, 1080))\n",
    "\n",
    "\n",
    "# # 儲存結果\n",
    "# output_filename = os.path.join(output_directory, input_file_name.replace('.jpg', '_left_view_slice.jpg'))\n",
    "# cv2.imwrite(output_filename, warped_image)\n",
    "\n",
    "# print(\"Homography transformation completed and saved successfully.\")\n"
   ]
  },
  {
   "cell_type": "markdown",
   "metadata": {},
   "source": [
    "\"\"\" 所有照片 左視角切片 的結果\"\"\" 先確認一下 np.shape(avg_coordinates_matrix) # (55, 4, 2)"
   ]
  },
  {
   "cell_type": "code",
   "execution_count": 5,
   "metadata": {},
   "outputs": [
    {
     "data": {
      "text/plain": [
       "(55, 4, 2)"
      ]
     },
     "execution_count": 5,
     "metadata": {},
     "output_type": "execute_result"
    }
   ],
   "source": [
    "np.shape(avg_coordinates_matrix) # (55, 4, 2)"
   ]
  },
  {
   "cell_type": "markdown",
   "metadata": {},
   "source": [
    "左視版本"
   ]
  },
  {
   "cell_type": "code",
   "execution_count": 8,
   "metadata": {},
   "outputs": [
    {
     "name": "stdout",
     "output_type": "stream",
     "text": [
      "avg_coordinates_matrix:  (55, 4, 2)\n",
      "Left view slice Homography transformation completed and saved successfully.\n"
     ]
    }
   ],
   "source": [
    "import cv2\n",
    "import numpy as np\n",
    "import os\n",
    "\n",
    "# 讀取所有.jpg文件\n",
    "input_directory = \"RGB_threshold_RedBinary\"\n",
    "output_directory = \"left_view_slice\"\n",
    "\n",
    "\n",
    "# 檢查輸出目錄是否存在，若不存在則建立\n",
    "if not os.path.exists(output_directory):\n",
    "    os.makedirs(output_directory)\n",
    "\n",
    "# 初始化 avg_coordinates_matrix\n",
    "# 假設 avg_coordinates_matrix 是一個大小為 (55, 4, 2) 的 NumPy 矩陣\n",
    "# 55 張照片，每張照片有 4 個點，每個點有 x 和 y 座標\n",
    "# 在這裡，我們假設 avg_coordinates_matrix 已經被定義和填充\n",
    "print(\"avg_coordinates_matrix: \", np.shape(avg_coordinates_matrix))\n",
    "\n",
    "# 遍歷所有.jpg文件\n",
    "for filename in os.listdir(input_directory):\n",
    "    if filename.endswith(\".jpg\"):\n",
    "        # 載入原始圖像\n",
    "        image_path = os.path.join(input_directory, filename)\n",
    "        image = cv2.imread(image_path)\n",
    "\n",
    "        # 取出對應的平均座標點\n",
    "        index = int(filename.split(\"_\")[0])  # 假設文件名是\"index_...jpg\"\n",
    "        avg_coordinates = avg_coordinates_matrix[index]\n",
    "        avg_coordinates = np.array(avg_coordinates, dtype=np.float32)\n",
    "\n",
    "        # 定義目標四個角的坐標（從右上、右下、左上、左下的順序）\n",
    "        dst_points = np.array([[1080, 0],\n",
    "                               [1080, 1080],\n",
    "                               [0, 0],\n",
    "                               [0, 1080]], dtype=np.float32)\n",
    "\n",
    "        # 執行透視變換（homography）\n",
    "        H, _ = cv2.findHomography(avg_coordinates, dst_points)\n",
    "\n",
    "        # 對原始圖像應用透視變換\n",
    "        warped_image = cv2.warpPerspective(image, H, (1080, 1080))\n",
    "\n",
    "        # 儲存結果\n",
    "        output_filename = os.path.join(output_directory, filename.replace('.jpg', '_left_view_slice.jpg'))\n",
    "        cv2.imwrite(output_filename, warped_image)\n",
    "\n",
    "print(\"Left view slice Homography transformation completed and saved successfully.\")\n"
   ]
  },
  {
   "cell_type": "markdown",
   "metadata": {},
   "source": [
    "正視版本"
   ]
  },
  {
   "cell_type": "code",
   "execution_count": 9,
   "metadata": {},
   "outputs": [
    {
     "name": "stdout",
     "output_type": "stream",
     "text": [
      "Front view slice Homography transformation completed and saved successfully.\n"
     ]
    }
   ],
   "source": [
    "import cv2\n",
    "import numpy as np\n",
    "import os\n",
    "\n",
    "# 定義四個點的坐標（左上、右上、左下、右下的順序）\n",
    "src_points = np.array([[238, 67],\n",
    "                       [988, 123],\n",
    "                       [270, 998],\n",
    "                       [959, 849]], dtype=np.float32)\n",
    "\n",
    "# 讀取所有.jpg文件\n",
    "input_directory = \"RGB_threshold_RedBinary\"\n",
    "output_directory = \"front_view_slice\"\n",
    "\n",
    "\n",
    "# 檢查輸出目錄是否存在，若不存在則建立\n",
    "if not os.path.exists(output_directory):\n",
    "    os.makedirs(output_directory)\n",
    "\n",
    "# 遍歷所有.jpg文件\n",
    "for filename in os.listdir(input_directory):\n",
    "    if filename.endswith(\".jpg\"):\n",
    "        # 載入原始圖像\n",
    "        image_path = os.path.join(input_directory, filename)\n",
    "        image = cv2.imread(image_path)\n",
    "\n",
    "        # 定義目標四個角的坐標（左上、右上、左下、右下的順序）\n",
    "        dst_points = np.array([[0, 0],\n",
    "                               [1080, 0],\n",
    "                               [0, 1080],\n",
    "                               [1080, 1080]], dtype=np.float32)\n",
    "\n",
    "        # 執行透視變換（homography）\n",
    "        H, _ = cv2.findHomography(src_points, dst_points)\n",
    "\n",
    "        # 對原始圖像應用透視變換\n",
    "        warped_image = cv2.warpPerspective(image, H, (1080, 1080))\n",
    "\n",
    "        # 儲存結果\n",
    "        output_filename = os.path.join(output_directory, filename.replace('.jpg', '_front_view_slice.jpg'))\n",
    "        cv2.imwrite(output_filename, warped_image)\n",
    "\n",
    "print(\"Front view slice Homography transformation completed and saved successfully.\")\n"
   ]
  }
 ],
 "metadata": {
  "kernelspec": {
   "display_name": "shadow3D",
   "language": "python",
   "name": "python3"
  },
  "language_info": {
   "codemirror_mode": {
    "name": "ipython",
    "version": 3
   },
   "file_extension": ".py",
   "mimetype": "text/x-python",
   "name": "python",
   "nbconvert_exporter": "python",
   "pygments_lexer": "ipython3",
   "version": "3.11.8"
  }
 },
 "nbformat": 4,
 "nbformat_minor": 2
}
