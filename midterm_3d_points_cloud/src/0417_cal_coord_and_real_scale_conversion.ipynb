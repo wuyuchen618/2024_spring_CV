{
 "cells": [
  {
   "cell_type": "markdown",
   "metadata": {},
   "source": [
    "現在啥也沒做 但快了 嗚嗚嗚"
   ]
  },
  {
   "cell_type": "markdown",
   "metadata": {},
   "source": [
    "1. 中間雕像沿著垂直方向 水平做平均\n",
    "2. 現在我要讀進來 側面 求XY\n",
    "3. 轉xY 中間00 +-98.5"
   ]
  },
  {
   "cell_type": "markdown",
   "metadata": {},
   "source": [
    "1. 上下兩範圍就好 大概就是兩斑點 沿著垂直方向 水平做平均\n",
    "2. 讀正面進來 求Z和照片的關西\n",
    "3. index 和 Z的關西 一樣正負98.5"
   ]
  },
  {
   "cell_type": "markdown",
   "metadata": {},
   "source": [
    "兩個合併 完成"
   ]
  },
  {
   "cell_type": "markdown",
   "metadata": {},
   "source": [
    "1. 先讀取正面的圖好了 應該比較簡單"
   ]
  },
  {
   "cell_type": "markdown",
   "metadata": {},
   "source": [
    "1. 來一個側面的"
   ]
  },
  {
   "cell_type": "code",
   "execution_count": 18,
   "metadata": {},
   "outputs": [
    {
     "name": "stdout",
     "output_type": "stream",
     "text": [
      " All X_Y_coordinate saved at X_Y_coordinates_output\n"
     ]
    }
   ],
   "source": [
    "import cv2\n",
    "import numpy as np\n",
    "import os\n",
    "\n",
    "def convert_pixel_to_mm(pixel_value, image_width, mm_range):\n",
    "    \"\"\"\n",
    "    將像素值轉換為毫米值。\n",
    "\n",
    "    參數：\n",
    "    - pixel_value：要轉換的像素值。\n",
    "    - image_width：圖像的寬度（單位：像素）。\n",
    "    - mm_range：圖像寬度對應到的毫米範圍。\n",
    "\n",
    "    返回：\n",
    "    - 轉換後的毫米值。\n",
    "    \"\"\"\n",
    "    mm_per_pixel = mm_range / (image_width - 1)  # 確保最右邊像素也包含在範圍內\n",
    "    mm_value = ((pixel_value - (image_width - 1) / 2) * mm_per_pixel)  # 將最左邊的像素設為 -98.5mm\n",
    "    return mm_value\n",
    "\n",
    "def process_image(input_directory, output_directory):\n",
    "    # 遍歷資料夾中的所有圖像檔案\n",
    "    for filename in os.listdir(input_directory):\n",
    "        if filename.endswith(\".jpg\"):\n",
    "            # 讀取圖像\n",
    "            input_file_path = os.path.join(input_directory, filename)\n",
    "            image = cv2.imread(input_file_path)\n",
    "\n",
    "            # 定義方框範圍的最左上與最右下座標\n",
    "            top_left = (50, 50)\n",
    "            bottom_right = (1030, 1030)\n",
    "\n",
    "            # 將指定範圍外的像素值設為全黑\n",
    "            mask = np.zeros_like(image)\n",
    "            cv2.rectangle(mask, top_left, bottom_right, (255, 255, 255), -1)\n",
    "            image[mask == 0] = 0\n",
    "\n",
    "            # 找出範圍內的白色像素的座標\n",
    "            white_points = np.where(image == 255)\n",
    "            coordinates = list(zip(white_points[1], white_points[0]))  # 將(x, y)座標轉換為(y, x)\n",
    "\n",
    "            # 計算座標的毫米值\n",
    "            mm_range = 2 * 98.5  # 毫米範圍\n",
    "            mm_coordinates = [(convert_pixel_to_mm(x, 1080, mm_range), convert_pixel_to_mm(y, 1080, mm_range)) for x, y in coordinates]\n",
    "\n",
    "            # 將座標儲存為.txt文件\n",
    "            output_filename = os.path.join(output_directory, filename.replace('.jpg', '_coordinates.txt'))\n",
    "            with open(output_filename, 'w') as f:\n",
    "                for coord in mm_coordinates:\n",
    "                    f.write(f\"{coord[0]:.2f} {coord[1]:.2f}\\n\")\n",
    "\n",
    "            # print(f\"Converted coordinates saved at {output_filename}\")\n",
    "\n",
    "            # 返回白點數量 確認用而已\n",
    "            # white_pixel_count = len(coordinates)\n",
    "            # print(f\"Number of white pixels in {filename}: {white_pixel_count}\")\n",
    "\n",
    "# 檔案路徑設定\n",
    "input_directory = \"left_view_slice\"\n",
    "output_directory = \"X_Y_coordinates_output\"\n",
    "if not os.path.exists(output_directory):\n",
    "    os.makedirs(output_directory)\n",
    "\n",
    "# 呼叫處理函數\n",
    "process_image(input_directory, output_directory)\n",
    "print(f\" All X_Y_coordinate saved at {output_directory}\")\n"
   ]
  },
  {
   "cell_type": "markdown",
   "metadata": {},
   "source": [
    "2. 來個正面的 "
   ]
  },
  {
   "cell_type": "markdown",
   "metadata": {},
   "source": [
    "下面只有劃線儲存照片的 暫時不需要了 因為我還要存Z"
   ]
  },
  {
   "cell_type": "code",
   "execution_count": 20,
   "metadata": {},
   "outputs": [
    {
     "name": "stdout",
     "output_type": "stream",
     "text": [
      " All Z_value_line image of red regions saved at Z_value_line\n"
     ]
    }
   ],
   "source": [
    "# \"\"\"下面只有劃線儲存照片的 暫時不需要了 因為我還要存Z\"\"\"\n",
    "# import cv2\n",
    "# import numpy as np\n",
    "# import os\n",
    "\n",
    "# def convert_pixel_to_mm(pixel_value, image_width, mm_range):\n",
    "#     \"\"\"\n",
    "#     將像素值轉換為毫米值。\n",
    "\n",
    "#     參數：\n",
    "#     - pixel_value：要轉換的像素值。\n",
    "#     - image_width：圖像的寬度（單位：像素）。\n",
    "#     - mm_range：圖像寬度對應到的毫米範圍。\n",
    "\n",
    "#     返回：\n",
    "#     - 轉換後的毫米值。\n",
    "#     \"\"\"\n",
    "#     mm_per_pixel = mm_range / (image_width - 1)  # 確保最右邊像素也包含在範圍內\n",
    "#     mm_value = ((pixel_value - (image_width - 1) / 2) * mm_per_pixel)  # 將最左邊的像素設為 -98.5mm\n",
    "#     return mm_value\n",
    "\n",
    "# # 檔案路徑設定\n",
    "# #=========================================================\n",
    "\n",
    "# # 輸入\n",
    "# input_directory = \"front_view_slice\"\n",
    "# # 輸出\n",
    "# output_directory = \"Z_value_line\"\n",
    "# if not os.path.exists(output_directory):\n",
    "#     os.makedirs(output_directory)\n",
    "\n",
    "# #==========================================================\n",
    "\n",
    "\n",
    "# # 遍歷資料夾中的所有圖像檔案\n",
    "# for filename in os.listdir(input_directory):\n",
    "#     if filename.endswith(\".jpg\"):\n",
    "#         # 讀取圖像\n",
    "#         image_path = os.path.join(input_directory, filename)\n",
    "#         image = cv2.imread(image_path)\n",
    "\n",
    "#         # 定義方框範圍的最左上與最右下座標\n",
    "#         top_left = (0, 50)\n",
    "#         bottom_right = (1080, 1030)\n",
    "\n",
    "#         # 將指定範圍內的像素值設為全黑\n",
    "#         image[top_left[1]:bottom_right[1], top_left[0]:bottom_right[0]] = 0\n",
    "\n",
    "#         # 找出剩餘白點的 x 座標\n",
    "#         white_points = np.where(image == 255)\n",
    "#         remaining_x_coordinates = white_points[1]\n",
    "\n",
    "#         # 計算 x 座標的平均值\n",
    "#         x_avg = int(np.mean(remaining_x_coordinates))\n",
    "\n",
    "#         # 繪製一條綠色的垂直線\n",
    "#         cv2.line(image, (x_avg, 0), (x_avg, 1080), (0, 255, 0), 2)\n",
    "\n",
    "#         # 在線旁邊標記 X 值\n",
    "#         font = cv2.FONT_HERSHEY_SIMPLEX\n",
    "#         font_scale = 1\n",
    "#         font_color = (255, 255, 255)\n",
    "#         cv2.putText(image, f\"X = {x_avg}\", (x_avg + 10, 50), font, font_scale, font_color, 2)\n",
    "\n",
    "#         # 計算毫米值\n",
    "#         mm_range = 2 * 98.5  # 毫米範圍\n",
    "#         mm_value = convert_pixel_to_mm(x_avg, 1080, mm_range)\n",
    "\n",
    "#         # 在線旁邊標記毫米值\n",
    "#         font = cv2.FONT_HERSHEY_SIMPLEX\n",
    "#         font_scale = 1\n",
    "#         font_color = (255, 255, 255)\n",
    "#         cv2.putText(image, f\"{mm_value:.2f} mm\", (x_avg + 10, 100), font, font_scale, font_color, 2)\n",
    "\n",
    "\n",
    "#         # 儲存結果\n",
    "#         output_filename = os.path.join(output_directory, filename.replace('.jpg', 'Z_value_line.jpg'))\n",
    "#         cv2.imwrite(output_filename, image)\n",
    "\n",
    "# print(f\" All Z_value_line image of red regions saved at {output_directory}\")"
   ]
  },
  {
   "cell_type": "markdown",
   "metadata": {},
   "source": [
    "gpt給的 除了畫綠色垂直線 還能儲存Z值 還行!!"
   ]
  },
  {
   "cell_type": "code",
   "execution_count": 23,
   "metadata": {},
   "outputs": [
    {
     "name": "stdout",
     "output_type": "stream",
     "text": [
      "All Z_value_line images of red regions saved at Z_value_line\n",
      "mm_value values saved at Z_coordinates_output\\Z_coordinates_values.txt\n"
     ]
    }
   ],
   "source": [
    "import cv2\n",
    "import numpy as np\n",
    "import os\n",
    "\n",
    "def convert_pixel_to_mm(pixel_value, image_width, mm_range):\n",
    "    \"\"\"\n",
    "    將像素值轉換為毫米值。\n",
    "\n",
    "    參數：\n",
    "    - pixel_value：要轉換的像素值。\n",
    "    - image_width：圖像的寬度（單位：像素）。\n",
    "    - mm_range：圖像寬度對應到的毫米範圍。\n",
    "\n",
    "    返回：\n",
    "    - 轉換後的毫米值。\n",
    "    \"\"\"\n",
    "    mm_per_pixel = mm_range / (image_width - 1)  # 確保最右邊像素也包含在範圍內\n",
    "    mm_value = ((pixel_value - (image_width - 1) / 2) * mm_per_pixel)  # 將最左邊的像素設為 -98.5mm\n",
    "    return mm_value\n",
    "\n",
    "# 檔案路徑設定\n",
    "#=========================================================\n",
    "\n",
    "# 輸入\n",
    "input_directory = \"front_view_slice\"\n",
    "# 輸出\n",
    "output_image_directory = \"Z_value_line\"\n",
    "output_txt_directory = \"Z_coordinates_output\"\n",
    "\n",
    "if not os.path.exists(output_image_directory):\n",
    "    os.makedirs(output_image_directory)\n",
    "\n",
    "if not os.path.exists(output_txt_directory):\n",
    "    os.makedirs(output_txt_directory)\n",
    "\n",
    "# 儲存 mm_value 值的列表\n",
    "mm_value_list = []\n",
    "\n",
    "#==========================================================\n",
    "\n",
    "\n",
    "# 遍歷資料夾中的所有圖像檔案\n",
    "for filename in os.listdir(input_directory):\n",
    "    if filename.endswith(\".jpg\"):\n",
    "        # 讀取圖像\n",
    "        image_path = os.path.join(input_directory, filename)\n",
    "        image = cv2.imread(image_path)\n",
    "\n",
    "        # 定義方框範圍的最左上與最右下座標\n",
    "        top_left = (0, 50)\n",
    "        bottom_right = (1080, 1030)\n",
    "\n",
    "        # 將指定範圍內的像素值設為全黑\n",
    "        image[top_left[1]:bottom_right[1], top_left[0]:bottom_right[0]] = 0\n",
    "\n",
    "        # 找出剩餘白點的 x 座標\n",
    "        white_points = np.where(image == 255)\n",
    "        remaining_x_coordinates = white_points[1]\n",
    "\n",
    "        # 計算 x 座標的平均值\n",
    "        x_avg = int(np.mean(remaining_x_coordinates))\n",
    "\n",
    "        # 計算毫米值\n",
    "        mm_range = 2 * 98.5  # 毫米範圍\n",
    "        mm_value = convert_pixel_to_mm(x_avg, 1080, mm_range)\n",
    "        mm_value_list.append(mm_value)\n",
    "\n",
    "        # 繪製一條綠色的垂直線\n",
    "        cv2.line(image, (x_avg, 0), (x_avg, 1080), (0, 255, 0), 2)\n",
    "\n",
    "        # 在線旁邊標記 X 值\n",
    "        font = cv2.FONT_HERSHEY_SIMPLEX\n",
    "        font_scale = 1\n",
    "        font_color = (255, 255, 255)\n",
    "        cv2.putText(image, f\"X = {x_avg}\", (x_avg + 10, 50), font, font_scale, font_color, 2)\n",
    "\n",
    "        # 在線旁邊標記毫米值\n",
    "        cv2.putText(image, f\"{mm_value:.2f} mm\", (x_avg + 10, 100), font, font_scale, font_color, 2)\n",
    "\n",
    "        # 儲存結果\n",
    "        output_image_filename = os.path.join(output_image_directory, filename.replace('.jpg', 'Z_value_line.jpg'))\n",
    "        cv2.imwrite(output_image_filename, image)\n",
    "\n",
    "# 將 mm_value 值儲存到 TXT 文件\n",
    "mm_value_output_filename = os.path.join(output_txt_directory, \"Z_coordinates_values.txt\")\n",
    "with open(mm_value_output_filename, 'w') as f:\n",
    "    for mm_value in mm_value_list:\n",
    "        f.write(f\"{mm_value:.2f}\\n\")\n",
    "\n",
    "print(f\"All Z_value_line images of red regions saved at {output_image_directory}\")\n",
    "print(f\"mm_value values saved at {mm_value_output_filename}\")\n"
   ]
  },
  {
   "cell_type": "markdown",
   "metadata": {},
   "source": [
    "除理點雲囉"
   ]
  },
  {
   "cell_type": "code",
   "execution_count": 31,
   "metadata": {},
   "outputs": [],
   "source": [
    "# 檔案路徑設定\n",
    "\n",
    "input_coordinates_directory = \"X_Y_coordinates_output\"\n",
    "\n",
    "output_points_cloud_directory = \"Z_X_Y_points_cloud\"\n",
    "if not os.path.exists(output_points_cloud_directory):\n",
    "    os.makedirs(output_points_cloud_directory)\n",
    "#=========================================================\n",
    "\n",
    "# 讀取 Z 座標值\n",
    "z_values = []\n",
    "z_values_file_path = os.path.join(\"Z_coordinates_output\", \"Z_coordinates_values.txt\")\n",
    "with open(z_values_file_path, 'r') as f:\n",
    "    z_values = [float(line.strip()) for line in f.readlines()]\n",
    "\n",
    "#==========================================================\n",
    "\n"
   ]
  },
  {
   "cell_type": "code",
   "execution_count": 37,
   "metadata": {},
   "outputs": [
    {
     "name": "stdout",
     "output_type": "stream",
     "text": [
      "All Z, X, Y coordinates concatenated and saved at Z_X_Y_points_cloud\\Z_X_Y_points_cloud.xyz\n"
     ]
    }
   ],
   "source": [
    "all_coordinates = []  # 建立一個空列表，用於儲存所有的座標（包括 Z, X, Y）\n",
    "\n",
    "# 遍歷 X_Y_coordinates_output 目錄中的所有文件，同時也遍歷 Z 座標值的列表\n",
    "for filename, z_value in zip(os.listdir(input_coordinates_directory), z_values):\n",
    "    # 確保只處理 .txt 文件\n",
    "    if filename.endswith(\".txt\"):\n",
    "        # 構建 .txt 文件的完整路徑\n",
    "        input_file_path = os.path.join(input_coordinates_directory, filename)\n",
    "        \n",
    "        # 讀取 .txt 文件中的座標\n",
    "        with open(input_file_path, 'r') as f:\n",
    "            coordinates = f.readlines()  # 讀取所有行，每行代表一個座標\n",
    "        \n",
    "        # 將每個座標的 X 值、Y 值從座標中分離出來\n",
    "        separated_coordinates = [coord.strip().split() for coord in coordinates]\n",
    "        x_values = [float(coord[0]) for coord in separated_coordinates]\n",
    "        y_values = [float(coord[1]) for coord in separated_coordinates]\n",
    "\n",
    "        # 將每個座標的 Z 值加入到座標後面，形成 (Z, X, Y) 的格式\n",
    "        # coordinates_with_z = [f\"{coord.strip()} {z_value:.2f}\\n\" for coord in coordinates]\n",
    "        coordinates_with_z = [f\"{z_value:.2f} {coord.strip()}\\n\" for coord in coordinates]\n",
    "\n",
    "        \n",
    "        # 將含有 Z 值的座標加入到 all_coordinates 列表中\n",
    "        all_coordinates.extend(coordinates_with_z)\n",
    "\n",
    "# 將座標串在一起並儲存到一個 .xyz 檔案中\n",
    "output_points_cloud_filename = os.path.join(output_points_cloud_directory, \"Z_X_Y_points_cloud.xyz\")\n",
    "with open(output_points_cloud_filename, 'w') as f:\n",
    "    for coord in all_coordinates:\n",
    "        f.write(coord)\n",
    "\n",
    "\n",
    "print(f\"All Z, X, Y coordinates concatenated and saved at {output_points_cloud_filename}\")"
   ]
  },
  {
   "cell_type": "code",
   "execution_count": 36,
   "metadata": {},
   "outputs": [
    {
     "name": "stdout",
     "output_type": "stream",
     "text": [
      "All Z_Y_X coordinates concatenated and saved at Z_X_Y_points_cloud\\Z_Y_X_points_cloud.xyz\n"
     ]
    }
   ],
   "source": [
    "# desired_order = \"Z_Y_X\"  # 設置所需的座標順序\n",
    "\n",
    "# all_coordinates = []  # 建立一個空列表，用於儲存所有的座標（包括 Z, X, Y）\n",
    "\n",
    "# # 遍歷 X_Y_coordinates_output 目錄中的所有文件，同時也遍歷 Z 座標值的列表\n",
    "# for filename, z_value in zip(os.listdir(input_coordinates_directory), z_values):\n",
    "#     # 確保只處理 .txt 文件\n",
    "#     if filename.endswith(\".txt\"):\n",
    "#         # 構建 .txt 文件的完整路徑\n",
    "#         input_file_path = os.path.join(input_coordinates_directory, filename)\n",
    "        \n",
    "#         # 讀取 .txt 文件中的座標\n",
    "#         with open(input_file_path, 'r') as f:\n",
    "#             coordinates = f.readlines()  # 讀取所有行，每行代表一個座標\n",
    "        \n",
    "#         # 將每個座標的 X 值、Y 值從座標中分離出來\n",
    "#         separated_coordinates = [coord.strip().split() for coord in coordinates]\n",
    "#         x_values = [float(coord[0]) for coord in separated_coordinates]\n",
    "#         y_values = [float(coord[1]) for coord in separated_coordinates]\n",
    "        \n",
    "#         # 將 Z, X, Y 座標順序根據需要進行調整\n",
    "#         if desired_order == \"Z_X_Y\":\n",
    "#             coordinates_with_order = [f\"{z_value:.2f} {x:.2f} {y:.2f}\\n\" for x, y in zip(x_values, y_values)]\n",
    "#             output_filename = \"Z_X_Y_points_cloud.xyz\"\n",
    "#         elif desired_order == \"X_Y_Z\":\n",
    "#             coordinates_with_order = [f\"{x:.2f} {y:.2f} {z_value:.2f}\\n\" for x, y in zip(x_values, y_values)]\n",
    "#             output_filename = \"X_Y_Z_points_cloud.xyz\"\n",
    "#         elif desired_order == \"X_Z_Y\":\n",
    "#             coordinates_with_order = [f\"{x:.2f} {z_value:.2f} {y:.2f}\\n\" for x, y in zip(x_values, y_values)]\n",
    "#             output_filename = \"X_Z_Y_points_cloud.xyz\"\n",
    "#         elif desired_order == \"Y_Z_X\":\n",
    "#             coordinates_with_order = [f\"{y:.2f} {z_value:.2f} {x:.2f}\\n\" for x, y in zip(x_values, y_values)]\n",
    "#             output_filename = \"Y_Z_X_points_cloud.xyz\"\n",
    "#         elif desired_order == \"Y_X_Z\":\n",
    "#             coordinates_with_order = [f\"{y:.2f} {x:.2f} {z_value:.2f}\\n\" for x, y in zip(x_values, y_values)]\n",
    "#             output_filename = \"Y_X_Z_points_cloud.xyz\"\n",
    "#         elif desired_order == \"Z_Y_X\":\n",
    "#             coordinates_with_order = [f\"{z_value:.2f} {y:.2f} {x:.2f}\\n\" for x, y in zip(x_values, y_values)]\n",
    "#             output_filename = \"Z_Y_X_points_cloud.xyz\"\n",
    "        \n",
    "#         # 將含有所需座標順序的座標加入到 all_coordinates 列表中\n",
    "#         all_coordinates.extend(coordinates_with_order)\n",
    "\n",
    "# # 將座標串在一起並儲存到一個 .xyz 檔案中\n",
    "# output_points_cloud_filename = os.path.join(output_points_cloud_directory, output_filename)\n",
    "# with open(output_points_cloud_filename, 'w') as f:\n",
    "#     for coord in all_coordinates:\n",
    "#         f.write(coord)\n",
    "\n",
    "# print(f\"All {desired_order} coordinates concatenated and saved at {output_points_cloud_filename}\")\n"
   ]
  },
  {
   "cell_type": "code",
   "execution_count": 39,
   "metadata": {},
   "outputs": [
    {
     "name": "stdout",
     "output_type": "stream",
     "text": [
      "Rotated XYZ coordinates saved to Z_X_Y_points_cloud\\Z_X_Y_points_cloud_rotated.xyz\n"
     ]
    }
   ],
   "source": [
    "import numpy as np\n",
    "\n",
    "def rotate_xyz(input_filename, output_filename, angle_degrees):\n",
    "    # 讀取原始的.xyz檔案\n",
    "    with open(input_filename, 'r') as f:\n",
    "        lines = f.readlines()\n",
    "\n",
    "    # 提取座標部分，並進行旋轉\n",
    "    rotated_lines = []\n",
    "    for line in lines:\n",
    "        if line.strip():  # 忽略空行\n",
    "            coords = line.strip().split()\n",
    "            x, y, z = float(coords[0]), float(coords[1]), float(coords[2])\n",
    "\n",
    "            # 將座標點轉換為numpy array\n",
    "            point = np.array([x, y, z])\n",
    "\n",
    "            # 定義旋轉矩陣\n",
    "            theta = np.radians(angle_degrees)\n",
    "            rotation_matrix = np.array([[1, 0, 0],\n",
    "                                         [0, np.cos(theta), -np.sin(theta)],\n",
    "                                         [0, np.sin(theta), np.cos(theta)]])\n",
    "\n",
    "            # 將座標點進行旋轉\n",
    "            rotated_point = np.dot(rotation_matrix, point)\n",
    "\n",
    "            # 將旋轉後的座標點添加到列表中\n",
    "            rotated_lines.append(\" \".join(str(coord) for coord in rotated_point) + \"\\n\")\n",
    "\n",
    "    # 將旋轉後的座標保存到新的.xyz檔案中\n",
    "    with open(output_filename, 'w') as f:\n",
    "        f.writelines(rotated_lines)\n",
    "\n",
    "    print(f\"Rotated XYZ coordinates saved to {output_filename}\")\n",
    "\n",
    "# 測試程式\n",
    "input_coordinates_directory = \"Z_X_Y_points_cloud\"\n",
    "filename = \"Z_X_Y_points_cloud.xyz\"  # 原始的.xyz檔案名稱\n",
    "input_file_path = os.path.join(input_coordinates_directory, filename)\n",
    "\n",
    "output_directory = \"Z_X_Y_points_cloud\"\n",
    "\n",
    "# 新的.xyz檔案名稱，保存旋轉後的座標\n",
    "output_filename = os.path.join(output_directory, filename.replace('.xyz', '_rotated.xyz'))\n",
    "\n",
    "angle_degrees = 180  # 旋轉角度（度）\n",
    "rotate_xyz(input_file_path, output_filename, angle_degrees)\n"
   ]
  }
 ],
 "metadata": {
  "kernelspec": {
   "display_name": "shadow3D",
   "language": "python",
   "name": "python3"
  },
  "language_info": {
   "codemirror_mode": {
    "name": "ipython",
    "version": 3
   },
   "file_extension": ".py",
   "mimetype": "text/x-python",
   "name": "python",
   "nbconvert_exporter": "python",
   "pygments_lexer": "ipython3",
   "version": "3.11.8"
  }
 },
 "nbformat": 4,
 "nbformat_minor": 2
}
