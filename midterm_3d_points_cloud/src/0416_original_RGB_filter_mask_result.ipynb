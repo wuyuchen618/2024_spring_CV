{
 "cells": [
  {
   "cell_type": "markdown",
   "metadata": {},
   "source": [
    "這是一個測試threadhold 結果 純粹生成result\n",
    "所有二值化結果 存在 RGB_threshold_RedBinary"
   ]
  },
  {
   "cell_type": "markdown",
   "metadata": {},
   "source": [
    "使用助教說的RGB: 1. 二值化可以試試看用rgb色彩空間比較r通道數值是否遠高於g跟b通道"
   ]
  },
  {
   "cell_type": "code",
   "execution_count": 1,
   "metadata": {},
   "outputs": [
    {
     "name": "stdout",
     "output_type": "stream",
     "text": [
      "All images processed Mask result successfully.\n",
      "Binary image of red regions saved at RGB_threshold_RedBinary\n"
     ]
    }
   ],
   "source": [
    "import cv2\n",
    "import numpy as np\n",
    "import os\n",
    "\n",
    "# 檔案路徑設定\n",
    "#=========================================================\n",
    "\n",
    "# 輸入\n",
    "input_directory = \"ShadowStrip\"\n",
    "output_directory = \"RGB_threshold_RedBinary\"\n",
    "\n",
    "if not os.path.exists(output_directory):\n",
    "    os.makedirs(output_directory)\n",
    "\n",
    "#==========================================================\n",
    "\n",
    "# 定義紅色的 RGB 範圍\n",
    "red_threshold = 90  # 調整此值以適應不同圖像\n",
    "\n",
    "# 遍歷資料夾中的所有圖像檔案\n",
    "for filename in os.listdir(input_directory):\n",
    "    if filename.endswith(\".jpg\"):\n",
    "        # 讀取圖像\n",
    "        image_path = os.path.join(input_directory, filename)\n",
    "        image = cv2.imread(image_path)\n",
    "\n",
    "        # 提取圖像的 RGB 通道\n",
    "        r_channel = image[:, :, 2]  # 紅色通道\n",
    "        g_channel = image[:, :, 1]  # 綠色通道\n",
    "        b_channel = image[:, :, 0]  # 藍色通道\n",
    "\n",
    "        # 判斷紅色通道是否遠高於綠色和藍色通道\n",
    "        red_mask = (r_channel > red_threshold) & (r_channel > g_channel+10) & (r_channel > b_channel+10)\n",
    "\n",
    "        # 將結果轉換為二值化圖像\n",
    "        red_binary = np.zeros_like(r_channel, dtype=np.uint8)\n",
    "        red_binary[red_mask] = 255\n",
    "\n",
    "        # 儲存結果\n",
    "        output_filename = os.path.join(output_directory, filename.replace('.jpg', '_RGB_threshold_RedBinary.jpg'))\n",
    "        cv2.imwrite(output_filename, red_binary)\n",
    "        # print(f\"Binary image of red regions saved as {output_filename}\")\n",
    "\n",
    "print(\"All images processed Mask result successfully.\")\n",
    "print(f\"Binary image of red regions saved at {output_directory}\")"
   ]
  }
 ],
 "metadata": {
  "kernelspec": {
   "display_name": "shadow3D",
   "language": "python",
   "name": "python3"
  },
  "language_info": {
   "codemirror_mode": {
    "name": "ipython",
    "version": 3
   },
   "file_extension": ".py",
   "mimetype": "text/x-python",
   "name": "python",
   "nbconvert_exporter": "python",
   "pygments_lexer": "ipython3",
   "version": "3.11.8"
  }
 },
 "nbformat": 4,
 "nbformat_minor": 2
}
