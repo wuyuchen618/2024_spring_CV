{
 "cells": [
  {
   "cell_type": "markdown",
   "metadata": {},
   "source": [
    "1. 定義讀取圖像 & 3D點座標的函數\n",
    "2.  讀取相機參數的函數\n",
    "3.  定義投影點的函數\n",
    "4.  定義繪製軌跡的函數\n",
    "5.  定義保存圖像的函數"
   ]
  },
  {
   "cell_type": "code",
   "execution_count": 9,
   "metadata": {},
   "outputs": [],
   "source": [
    "import numpy as np\n",
    "import cv2"
   ]
  },
  {
   "cell_type": "code",
   "execution_count": 10,
   "metadata": {},
   "outputs": [],
   "source": [
    "# 定義相機1的內部參數矩陣\n",
    "Cam1_K = np.array([[2666.6667, 0., 960.],\n",
    "                    [0., 2666.6667, 540.],\n",
    "                    [0., 0., 1.]])\n",
    "\n",
    "# 定義相機1的外部參數矩陣\n",
    "Cam1_RT = np.array([[0.9874449, -0.1576334, -0.0102154, 11.840861],\n",
    "                     [-0.0165432, -0.0388828, -0.9991068, 1.1459197],\n",
    "                     [0.1570954, 0.986732, -0.0410024, 50.106411]])\n",
    "\n",
    "# 定義相機2的內部參數矩陣\n",
    "Cam2_K = np.array([[4266.667, 0., 960.],\n",
    "                    [0., 4266.667, 540.],\n",
    "                    [0., 0., 1.]])\n",
    "\n",
    "# 定義相機2的外部參數矩陣\n",
    "Cam2_RT = np.array([[-0.0000004, -1., 0.0000001, 12.915463],\n",
    "                     [-0.299365, 0.0, -0.9541386, -7.8007503],\n",
    "                     [0.9541386, -0.0000004, -0.299365, 116.06975]])"
   ]
  },
  {
   "cell_type": "code",
   "execution_count": 11,
   "metadata": {},
   "outputs": [],
   "source": [
    "def read_images(image1_path, image2_path):\n",
    "    # 讀取圖像\n",
    "    image1 = cv2.imread(image1_path)\n",
    "    image2 = cv2.imread(image2_path)\n",
    "    return image1, image2\n",
    "def read_points(points_file):\n",
    "    # 讀取3D點座標\n",
    "    points_3d = np.loadtxt(points_file)\n",
    "    return points_3d"
   ]
  },
  {
   "cell_type": "code",
   "execution_count": 12,
   "metadata": {},
   "outputs": [],
   "source": [
    "def project_points(Cam_K, Cam_RT, points_3d, image_size):\n",
    "\n",
    "    ## 計算相機的投影矩陣\n",
    "    proj_matrix = np.dot(Cam_K, Cam_RT)\n",
    "    # print('proj_matrix.shape',proj_matrix.shape)\n",
    "    # print('points_3d.shape',points_3d.shape)\n",
    "    \n",
    "\n",
    "    ## 將三維點擴展為齊次座標\n",
    "    points_3d = np.append(points_3d, 1)\n",
    "    points_3d_h = points_3d.reshape(-1, 1) # Reshape the point to a column vector\n",
    "    # print('points_3d_h.shape',points_3d_h.shape)\n",
    "    \n",
    "    \n",
    "    ## 將三維點投影到圖像平面\n",
    "    points_2d_h = np.dot(proj_matrix, points_3d_h)\n",
    "    points_2d = points_2d_h[:2, :] / points_2d_h[2, :]\n",
    "    # print('result',points_2d.shape)\n",
    "\n",
    "\n",
    "    ## 將超出圖像範圍的點移除\n",
    "    points_2d = points_2d[:, (points_2d[0] >= 0) & (points_2d[0] < image_size[1]) & \n",
    "                              (points_2d[1] >= 0) & (points_2d[1] < image_size[0])]\n",
    "\n",
    "    return points_2d"
   ]
  },
  {
   "cell_type": "code",
   "execution_count": 13,
   "metadata": {},
   "outputs": [],
   "source": [
    "def draw_and_save_trajectory(image, projected_points, output_path, student_id):\n",
    "    # 繪製投影點\n",
    "    for point in projected_points.T:  # 轉置投影點的矩陣以便遍歷\n",
    "        x, y = int(point[0]), int(point[1])\n",
    "        cv2.circle(image, (x, y), 5, (0, 255, 0), -1)  # 在圖像上畫一個綠色的點\n",
    "    \n",
    "    # 在左下角繪製名字和學號\n",
    "    font = cv2.FONT_HERSHEY_SIMPLEX\n",
    "    bottom_left_corner = (50, image.shape[0] - 50)  # 左下角位置\n",
    "    font_scale = 1\n",
    "    font_color = (255, 255, 255)  # 白色字體\n",
    "    font_thickness = 2\n",
    "    cv2.putText(image, f'{student_id}', bottom_left_corner, font, font_scale, font_color, font_thickness)\n",
    "\n",
    "    # 保存圖像\n",
    "    cv2.imwrite(output_path, image)"
   ]
  },
  {
   "cell_type": "code",
   "execution_count": 14,
   "metadata": {},
   "outputs": [],
   "source": [
    "# 設定檔案路徑\n",
    "image1_path = \"./SceneFromCamera1.jpg\"\n",
    "image2_path = \"SceneFromCamera2.jpg\"\n",
    "points_file = \"3D_Trajectory.xyz\"\n",
    "camera_parameter_file = \"CameraParameter.txt\"\n",
    "output_image1 = \"M11202130_1.jpg\"\n",
    "output_image2 = \"M11202130_2.jpg\""
   ]
  },
  {
   "cell_type": "code",
   "execution_count": 15,
   "metadata": {},
   "outputs": [],
   "source": [
    "image1, image2 = read_images(image1_path, image2_path)\n",
    "points_3d = read_points(points_file)"
   ]
  },
  {
   "cell_type": "code",
   "execution_count": 16,
   "metadata": {},
   "outputs": [],
   "source": [
    "image_size = (1080, 1920)  # 圖像大小\n",
    "img_1_result = np.empty((2, 0))\n",
    "img_2_result = np.empty((2, 0))\n",
    "for point in points_3d:\n",
    "    img_1_projected_point = project_points(Cam1_K, Cam1_RT, point, image_size)\n",
    "    img_2_projected_point = project_points(Cam2_K, Cam2_RT, point, image_size)\n",
    "    # print(projected_point.shape)\n",
    "    img_1_result = np.append(img_1_result, img_1_projected_point, axis=1)\n",
    "    img_2_result = np.append(img_2_result, img_2_projected_point, axis=1)"
   ]
  },
  {
   "cell_type": "code",
   "execution_count": 17,
   "metadata": {},
   "outputs": [],
   "source": [
    "# 調用函數繪製投影點並保存圖像\n",
    "student_id = \"M11202130\" \n",
    "draw_and_save_trajectory(image1, img_1_result, output_image1, student_id)\n",
    "draw_and_save_trajectory(image2, img_2_result, output_image2, student_id)\n",
    "# cv2.imshow('result',image )\n",
    "# cv2.waitKey()\n",
    "# cv2.destroyAllWindows()"
   ]
  }
 ],
 "metadata": {
  "kernelspec": {
   "display_name": "image_mapping_env",
   "language": "python",
   "name": "python3"
  },
  "language_info": {
   "codemirror_mode": {
    "name": "ipython",
    "version": 3
   },
   "file_extension": ".py",
   "mimetype": "text/x-python",
   "name": "python",
   "nbconvert_exporter": "python",
   "pygments_lexer": "ipython3",
   "version": "3.11.8"
  }
 },
 "nbformat": 4,
 "nbformat_minor": 2
}
